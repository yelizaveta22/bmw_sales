{
 "cells": [
  {
   "cell_type": "markdown",
   "id": "94d88980",
   "metadata": {},
   "source": [
    "## Введение\n",
    "\n",
    "Перед началом анализа мы загрузим **данные о ледниках из базы WGMS** и выполним их первичную обработку.\n",
    "Нас интересует, **в каких странах находится больше всего ледников, максимальную васоту ледника**, а также **сколько сантиметров в год теряют ледники в стране, куда отправится белка**.\n",
    "\n",
    "Все эти расчеты помогут нашей белке 🐿️ понять, на каком леднике лед 🧊 прочнее, а значит - куда безопаснее спрятать желудь, чтобы не случился ☠️*апокалипсис*☠️\n"
   ]
  },
  {
   "cell_type": "markdown",
   "id": "81870e27-a962-4cee-a993-c9aac244a1f8",
   "metadata": {},
   "source": [
    "Импортируем библиотеки и чекаем датасет. \n",
    "\n",
    "*В текстовом редакторе была проверена кодировка датасета, так как стандартная utf-8 не подошла.*"
   ]
  },
  {
   "cell_type": "code",
   "execution_count": 12,
   "id": "fda48f7f",
   "metadata": {},
   "outputs": [],
   "source": [
    "import pandas as pd\n",
    "import numpy as np\n",
    "import matplotlib.pyplot as plt"
   ]
  },
  {
   "cell_type": "code",
   "execution_count": 29,
   "id": "34b22cec-5deb-42b0-8f71-ba858c19e711",
   "metadata": {},
   "outputs": [
    {
     "name": "stdout",
     "output_type": "stream",
     "text": [
      "Количество песен: 953\n",
      "Пример записи:\n",
      "{'track_name;artist(s)_name;artist_count;released_year;released_month;released_day;in_spotify_playlists;in_spotify_charts;streams;in_apple_playlists;in_apple_charts;in_deezer_playlists;in_deezer_charts;in_shazam_charts;bpm;key;mode;danceability_%;valence_%;energy_%;acousticness_%;instrumentalness_%;liveness_%;speechiness_%': 'Seven (feat. Latto) (Explicit Ver.);Latto', None: [' Jung Kook;2;2023;7;14;553;147;141381703;43;263;45;10;826;125;B;Major;80;89;83;31;0;8;4']}\n"
     ]
    }
   ],
   "source": [
    "import csv\n",
    "\n",
    "with open('spotify_songs1.csv', encoding='ISO-8859-1') as f:\n",
    "    reader = csv.DictReader(f)\n",
    "    songs = list(reader)\n",
    "    \n",
    "print('Количество песен:', len(songs))\n",
    "print('Пример записи:')\n",
    "print(songs[0])"
   ]
  },
  {
   "cell_type": "markdown",
   "id": "f76696e6",
   "metadata": {},
   "source": [
    "## Теперь посмотрим сколько ледников в какой стране есть ⛰️\n",
    "\n",
    "Начнем обрабатывать файл сразу, так как данные достаточно чистые, единственное нужно проверять на пропуски"
   ]
  },
  {
   "cell_type": "code",
   "execution_count": 95,
   "id": "29cf785f-68a6-4ef8-a53a-7ac2857ee464",
   "metadata": {},
   "outputs": [
    {
     "name": "stdout",
     "output_type": "stream",
     "text": [
      "Количество уникальных ледников по странам:\n",
      "AR: 2\n",
      "AT: 13\n",
      "BO: 2\n",
      "CA: 10\n",
      "CH: 6\n",
      "CO: 2\n",
      "DE: 5\n",
      "ES: 1\n",
      "IN: 2\n",
      "IS: 1\n",
      "IT: 4\n",
      "KE: 1\n",
      "KG: 11\n",
      "KZ: 3\n",
      "NP: 2\n",
      "PK: 7\n",
      "RU: 1\n",
      "SE: 1\n",
      "SJ: 1\n",
      "TJ: 1\n",
      "US: 4\n"
     ]
    }
   ],
   "source": [
    "\n"
   ]
  },
  {
   "cell_type": "markdown",
   "id": "6491286e",
   "metadata": {},
   "source": [
    "## Выведем страну с наибольшим количеством ледников 🧊\n",
    "Чекаем самым простым способом: через цикл"
   ]
  },
  {
   "cell_type": "code",
   "execution_count": 96,
   "id": "59b1eb56",
   "metadata": {},
   "outputs": [
    {
     "name": "stdout",
     "output_type": "stream",
     "text": [
      "Страна с наибольшим количеством ледников: AT (13)\n"
     ]
    }
   ],
   "source": []
  },
  {
   "cell_type": "markdown",
   "id": "7f26ec5c-73f1-4c4b-bacb-128adea75570",
   "metadata": {},
   "source": [
    "## Теперь узнаем максимальную высоту, чтобы у белки был долгий и крутой подъем 🧗🏿‍♀️\n",
    "Белка-альпинист "
   ]
  },
  {
   "cell_type": "code",
   "execution_count": 106,
   "id": "a4afe2b0-ba3d-4175-98f2-45d5d96a0381",
   "metadata": {},
   "outputs": [
    {
     "name": "stdout",
     "output_type": "stream",
     "text": [
      "Максимальная высота ледника: 6500.0\n",
      "Страна: IN\n",
      "Название ледника: BARA SHIGRI\n"
     ]
    }
   ],
   "source": []
  },
  {
   "cell_type": "markdown",
   "id": "67948a07",
   "metadata": {},
   "source": [
    "## ОКАК. Белочка летит в Индию... Наверное. 🍛\n",
    "\n",
    "Мы нашли максимальную высоту ледника, но теперь нам нужно проверить, а не слишком ли быстро теряют свою массу ледники в Индии. Для этого посмотрим на индекс изменения высоты ледников (см/год)."
   ]
  },
  {
   "cell_type": "code",
   "execution_count": 107,
   "id": "933ac9e7-7dac-4107-aab1-c9626b5105ea",
   "metadata": {},
   "outputs": [
    {
     "name": "stdout",
     "output_type": "stream",
     "text": [
      "Значения изменения высот для ледников Индии:\n",
      "2.882\n",
      "1.455\n",
      "0.928\n",
      "0.633\n",
      "0.617\n",
      "0.385\n",
      "-0.246\n",
      "-0.608\n",
      "-0.95\n",
      "-1.224\n",
      "-1.622\n",
      "-1.84\n",
      "-1.919\n",
      "-2.348\n",
      "-2.642\n",
      "-3.024\n",
      "-3.065\n",
      "-3.114\n",
      "-3.544\n",
      "-3.631\n",
      "-3.718\n",
      "-3.812\n",
      "-3.964\n",
      "-4.014\n",
      "-4.022\n",
      "-4.102\n",
      "-4.352\n",
      "-4.555\n",
      "-5.5\n",
      "-5.526\n",
      "-6.641\n",
      "-6.7\n",
      "-7.629\n",
      "-8.247\n",
      "-8.513\n",
      "-8.979\n",
      "-9.139\n",
      "-9.141\n",
      "-9.767\n",
      "-9.799\n",
      "-10.008\n",
      "-10.633\n",
      "-10.929\n",
      "-11.148\n",
      "-11.905\n"
     ]
    }
   ],
   "source": []
  },
  {
   "cell_type": "markdown",
   "id": "279dfceb-460e-4a67-87b9-c1bfdb95072f",
   "metadata": {},
   "source": [
    "Белка поедет в Индию, потому что ледники там смогут уберечь ее желудь, ведь они расстают еще не скоро..."
   ]
  },
  {
   "cell_type": "markdown",
   "id": "bf8c53a2-dcce-42de-98c3-72e52bb60b4f",
   "metadata": {},
   "source": [
    "## Но нам нужно проверить, может ли она привести вагон и маленькую тележку желудей, ведь белка очень любит запасаться на зиму 🛒 (на целый Ледниковый период)\n",
    "\n",
    "Посчитаем высоту ледника, а затем общую площадь"
   ]
  },
  {
   "cell_type": "code",
   "execution_count": 122,
   "id": "8c623e17-936e-4fbb-b57b-9eed4c773a6f",
   "metadata": {},
   "outputs": [
    {
     "name": "stdout",
     "output_type": "stream",
     "text": [
      "Общая высота ледника Бара Шигри: 2600.0\n"
     ]
    }
   ],
   "source": []
  },
  {
   "cell_type": "code",
   "execution_count": 129,
   "id": "b8d8fe61-633f-4e13-8c40-0735b5e392be",
   "metadata": {},
   "outputs": [
    {
     "name": "stdout",
     "output_type": "stream",
     "text": [
      "Общая площадь ледника Бара Шигри: 131099801.0\n"
     ]
    }
   ],
   "source": []
  },
  {
   "cell_type": "markdown",
   "id": "c5023dec-88a8-4ff7-9da7-b631a2369c28",
   "metadata": {},
   "source": [
    "## Все, белка покупает билеты на ✈️сейлс"
   ]
  },
  {
   "cell_type": "code",
   "execution_count": null,
   "id": "fed6329f-d704-47e7-9af9-754ee5eee54a",
   "metadata": {},
   "outputs": [],
   "source": []
  }
 ],
 "metadata": {
  "kernelspec": {
   "display_name": "Python [conda env:base] *",
   "language": "python",
   "name": "conda-base-py"
  },
  "language_info": {
   "codemirror_mode": {
    "name": "ipython",
    "version": 3
   },
   "file_extension": ".py",
   "mimetype": "text/x-python",
   "name": "python",
   "nbconvert_exporter": "python",
   "pygments_lexer": "ipython3",
   "version": "3.13.5"
  }
 },
 "nbformat": 4,
 "nbformat_minor": 5
}
